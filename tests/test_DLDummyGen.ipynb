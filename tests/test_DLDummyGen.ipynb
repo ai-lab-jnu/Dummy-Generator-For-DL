{
 "cells": [
  {
   "cell_type": "code",
   "execution_count": null,
   "metadata": {},
   "outputs": [],
   "source": [
    "\"\"\"\n",
    "주어진 csv 파일을 본떠서 더미 csv 파일을 만드는 소스를 생성하는 예제 코드\n",
    "\n",
    "> pip install DLDummyGen\n",
    "\"\"\"\n",
    "\n",
    "__author__ = 'Hyungkoo Kim'\n",
    "__copyright__ = 'Copyright 2020, CHONNAM NATIONAL UNIVERSITY'\n",
    "__date__ = '2020/09/11'\n",
    "\n",
    "\n",
    "from DLDummyGen.DLDummyGen import DLLogger, DLDummyFieldHandler, DLDummyGenerator\n"
   ]
  },
  {
   "cell_type": "code",
   "execution_count": null,
   "metadata": {},
   "outputs": [],
   "source": [
    "\n",
    "class DLDummyFieldAutoIncrement(DLDummyFieldHandler):\n",
    "    \"\"\"\n",
    "    Auto Increment ID - Custom Field Callback Handler\n",
    "    \"\"\"\n",
    "\n",
    "    def on_custom_field(self, dg, fgen, column, dataset):\n",
    "        fgen.write('gen_df[\\\"' + column + '\\\"] = ')\n",
    "        fgen.write('[\\'ID{:05d}\\'.format(idx+1) for idx in range(GEN_ROW_MAX)]\\n\\n')\n",
    "\n",
    "\n",
    "class DLDummyFieldChoiceString(DLDummyFieldHandler):\n",
    "    \"\"\"\n",
    "    Choice String - Custom Field Callback Handler\n",
    "    \"\"\"\n",
    "\n",
    "    def on_custom_field(self, dg, fgen, column, dataset):\n",
    "        fgen.write('gen_df[\\\"' + column + '\\\"] = ')\n",
    "        fgen.write('choice([\\\"' + '\\\", \\\"'.join(['Y', 'N']) + '\\\"], GEN_ROW_MAX)\\n\\n')\n",
    "        "
   ]
  },
  {
   "cell_type": "code",
   "execution_count": null,
   "metadata": {},
   "outputs": [],
   "source": [
    "\n",
    "if __name__ == '__main__':\n",
    "\n",
    "    # Original csv File (Real Data)\n",
    "    CSV_FILE_NAME = \"pima-indians-diabetes.csv\"\n",
    "\n",
    "    # Maximum length of data to be generated\n",
    "    GEN_ROW_MAX = 10\n",
    "\n",
    "    # Length of Unique String Field (eg, Code Value) Judgment criteria\n",
    "    UNIQUE_FIELD_COUNT = 1000\n",
    "\n",
    "    # 로깅 객체 생성\n",
    "    logger = DLLogger()\n",
    "\n",
    "    dg = DLDummyGenerator(CSV_FILE_NAME, GEN_ROW_MAX, UNIQUE_FIELD_COUNT, logger=logger)\n",
    "\n",
    "    # Definition to generate random date/time\n",
    "    # [[Field Name, Start Date, End Date, Input Date Format, Output Date Format]]\n",
    "    DATE_FIELDS = [\n",
    "        [' Glucose', '2019-01', '2019-12', '%Y-%m', '%Y%m']\n",
    "    ]\n",
    "    dg.set_date_fields(DATE_FIELDS)\n",
    "\n",
    "    # Definition to custom field handler\n",
    "    # [[Field Name, DLDummyFieldHandler class implement instance]]\n",
    "    CUSTOM_FIELDS = [\n",
    "        ['Pregnancies', DLDummyFieldAutoIncrement()]\n",
    "        , [' Outcome', DLDummyFieldChoiceString()]\n",
    "    ]\n",
    "    dg.set_custom_fields(CUSTOM_FIELDS)\n",
    "\n",
    "    # Run to Generate python source code\n",
    "    dg.gen_src_from_csv()\n",
    "\n"
   ]
  }
 ],
 "metadata": {
  "kernelspec": {
   "display_name": "Python 3",
   "language": "python",
   "name": "python3"
  },
  "language_info": {
   "codemirror_mode": {
    "name": "ipython",
    "version": 3
   },
   "file_extension": ".py",
   "mimetype": "text/x-python",
   "name": "python",
   "nbconvert_exporter": "python",
   "pygments_lexer": "ipython3",
   "version": "3.7.7"
  }
 },
 "nbformat": 4,
 "nbformat_minor": 4
}
